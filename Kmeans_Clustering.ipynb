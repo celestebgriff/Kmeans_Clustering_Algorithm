{
  "nbformat": 4,
  "nbformat_minor": 0,
  "metadata": {
    "colab": {
      "name": "Kmeans_Clustering",
      "provenance": [],
      "authorship_tag": "ABX9TyPpMT0s9vkfouSW9vUpo6qR",
      "include_colab_link": true
    },
    "kernelspec": {
      "name": "python3",
      "display_name": "Python 3"
    }
  },
  "cells": [
    {
      "cell_type": "markdown",
      "metadata": {
        "id": "view-in-github",
        "colab_type": "text"
      },
      "source": [
        "<a href=\"https://colab.research.google.com/github/celestebgriff/Kmeans_Clustering_Algorithm/blob/master/Kmeans_Clustering.ipynb\" target=\"_parent\"><img src=\"https://colab.research.google.com/assets/colab-badge.svg\" alt=\"Open In Colab\"/></a>"
      ]
    },
    {
      "cell_type": "code",
      "metadata": {
        "id": "ZEDrNdtFSSfg",
        "colab_type": "code",
        "colab": {}
      },
      "source": [
        "import pandas as pd\n",
        "import numpy as np\n",
        "import pandas as pd\n",
        "import matplotlib.pyplot as plt\n",
        "from sklearn.cluster import KMeans"
      ],
      "execution_count": 108,
      "outputs": []
    },
    {
      "cell_type": "code",
      "metadata": {
        "id": "WS1mhEuISSVP",
        "colab_type": "code",
        "colab": {}
      },
      "source": [
        "df = pd.read_csv('https://gist.githubusercontent.com/tijptjik/9408623/raw/b237fa5848349a14a14e5d4107dc7897c21951f5/wine.csv')"
      ],
      "execution_count": 109,
      "outputs": []
    },
    {
      "cell_type": "code",
      "metadata": {
        "id": "rbpu5J36SP5x",
        "colab_type": "code",
        "colab": {
          "base_uri": "https://localhost:8080/",
          "height": 204
        },
        "outputId": "a7e00a17-5c6a-4fbf-fd74-03fe6319d4d9"
      },
      "source": [
        "df.head()"
      ],
      "execution_count": 110,
      "outputs": [
        {
          "output_type": "execute_result",
          "data": {
            "text/html": [
              "<div>\n",
              "<style scoped>\n",
              "    .dataframe tbody tr th:only-of-type {\n",
              "        vertical-align: middle;\n",
              "    }\n",
              "\n",
              "    .dataframe tbody tr th {\n",
              "        vertical-align: top;\n",
              "    }\n",
              "\n",
              "    .dataframe thead th {\n",
              "        text-align: right;\n",
              "    }\n",
              "</style>\n",
              "<table border=\"1\" class=\"dataframe\">\n",
              "  <thead>\n",
              "    <tr style=\"text-align: right;\">\n",
              "      <th></th>\n",
              "      <th>Wine</th>\n",
              "      <th>Alcohol</th>\n",
              "      <th>Malic.acid</th>\n",
              "      <th>Ash</th>\n",
              "      <th>Acl</th>\n",
              "      <th>Mg</th>\n",
              "      <th>Phenols</th>\n",
              "      <th>Flavanoids</th>\n",
              "      <th>Nonflavanoid.phenols</th>\n",
              "      <th>Proanth</th>\n",
              "      <th>Color.int</th>\n",
              "      <th>Hue</th>\n",
              "      <th>OD</th>\n",
              "      <th>Proline</th>\n",
              "    </tr>\n",
              "  </thead>\n",
              "  <tbody>\n",
              "    <tr>\n",
              "      <th>0</th>\n",
              "      <td>1</td>\n",
              "      <td>14.23</td>\n",
              "      <td>1.71</td>\n",
              "      <td>2.43</td>\n",
              "      <td>15.6</td>\n",
              "      <td>127</td>\n",
              "      <td>2.80</td>\n",
              "      <td>3.06</td>\n",
              "      <td>0.28</td>\n",
              "      <td>2.29</td>\n",
              "      <td>5.64</td>\n",
              "      <td>1.04</td>\n",
              "      <td>3.92</td>\n",
              "      <td>1065</td>\n",
              "    </tr>\n",
              "    <tr>\n",
              "      <th>1</th>\n",
              "      <td>1</td>\n",
              "      <td>13.20</td>\n",
              "      <td>1.78</td>\n",
              "      <td>2.14</td>\n",
              "      <td>11.2</td>\n",
              "      <td>100</td>\n",
              "      <td>2.65</td>\n",
              "      <td>2.76</td>\n",
              "      <td>0.26</td>\n",
              "      <td>1.28</td>\n",
              "      <td>4.38</td>\n",
              "      <td>1.05</td>\n",
              "      <td>3.40</td>\n",
              "      <td>1050</td>\n",
              "    </tr>\n",
              "    <tr>\n",
              "      <th>2</th>\n",
              "      <td>1</td>\n",
              "      <td>13.16</td>\n",
              "      <td>2.36</td>\n",
              "      <td>2.67</td>\n",
              "      <td>18.6</td>\n",
              "      <td>101</td>\n",
              "      <td>2.80</td>\n",
              "      <td>3.24</td>\n",
              "      <td>0.30</td>\n",
              "      <td>2.81</td>\n",
              "      <td>5.68</td>\n",
              "      <td>1.03</td>\n",
              "      <td>3.17</td>\n",
              "      <td>1185</td>\n",
              "    </tr>\n",
              "    <tr>\n",
              "      <th>3</th>\n",
              "      <td>1</td>\n",
              "      <td>14.37</td>\n",
              "      <td>1.95</td>\n",
              "      <td>2.50</td>\n",
              "      <td>16.8</td>\n",
              "      <td>113</td>\n",
              "      <td>3.85</td>\n",
              "      <td>3.49</td>\n",
              "      <td>0.24</td>\n",
              "      <td>2.18</td>\n",
              "      <td>7.80</td>\n",
              "      <td>0.86</td>\n",
              "      <td>3.45</td>\n",
              "      <td>1480</td>\n",
              "    </tr>\n",
              "    <tr>\n",
              "      <th>4</th>\n",
              "      <td>1</td>\n",
              "      <td>13.24</td>\n",
              "      <td>2.59</td>\n",
              "      <td>2.87</td>\n",
              "      <td>21.0</td>\n",
              "      <td>118</td>\n",
              "      <td>2.80</td>\n",
              "      <td>2.69</td>\n",
              "      <td>0.39</td>\n",
              "      <td>1.82</td>\n",
              "      <td>4.32</td>\n",
              "      <td>1.04</td>\n",
              "      <td>2.93</td>\n",
              "      <td>735</td>\n",
              "    </tr>\n",
              "  </tbody>\n",
              "</table>\n",
              "</div>"
            ],
            "text/plain": [
              "   Wine  Alcohol  Malic.acid   Ash  ...  Color.int   Hue    OD  Proline\n",
              "0     1    14.23        1.71  2.43  ...       5.64  1.04  3.92     1065\n",
              "1     1    13.20        1.78  2.14  ...       4.38  1.05  3.40     1050\n",
              "2     1    13.16        2.36  2.67  ...       5.68  1.03  3.17     1185\n",
              "3     1    14.37        1.95  2.50  ...       7.80  0.86  3.45     1480\n",
              "4     1    13.24        2.59  2.87  ...       4.32  1.04  2.93      735\n",
              "\n",
              "[5 rows x 14 columns]"
            ]
          },
          "metadata": {
            "tags": []
          },
          "execution_count": 110
        }
      ]
    },
    {
      "cell_type": "code",
      "metadata": {
        "id": "-05vVh8FTF6h",
        "colab_type": "code",
        "colab": {
          "base_uri": "https://localhost:8080/",
          "height": 34
        },
        "outputId": "27b2dade-d2f5-4551-c86d-dcba957554d6"
      },
      "source": [
        "df.isnull().values.any()"
      ],
      "execution_count": 111,
      "outputs": [
        {
          "output_type": "execute_result",
          "data": {
            "text/plain": [
              "False"
            ]
          },
          "metadata": {
            "tags": []
          },
          "execution_count": 111
        }
      ]
    },
    {
      "cell_type": "code",
      "metadata": {
        "id": "WRZNG1cmTPWN",
        "colab_type": "code",
        "colab": {}
      },
      "source": [
        "df = df[['Alcohol', 'Flavanoids']]\n",
        "X = df.values"
      ],
      "execution_count": 112,
      "outputs": []
    },
    {
      "cell_type": "code",
      "metadata": {
        "id": "tfvqVPScbh5K",
        "colab_type": "code",
        "colab": {}
      },
      "source": [
        "class CustomKMeans:\n",
        "    def __init__(self, n_clusters=2, max_iter=350, tol=0.001):\n",
        "        self.n_clusters = n_clusters\n",
        "        self.max_iter = max_iter\n",
        "        self.tol = tol\n",
        "\n",
        "    # Fit method\n",
        "    def fit(self, X):\n",
        "        n_samples = X.shape[0]\n",
        "\n",
        "        # Check for sufficient iterations\n",
        "        if self.max_iter <= 0:\n",
        "            raise ValueError(\"Max iterations must be above 0\")\n",
        "        # Check for sufficient number of samples\n",
        "        if n_samples < self.n_clusters:\n",
        "            raise ValueError(\"Number of samples must be greater than or equal to number of clusters\")\n",
        "        \n",
        "        # Initialize centroids\n",
        "        self.centroids = {}\n",
        "        \n",
        "        seeds = np.random.permutation(n_samples)[:self.n_clusters]\n",
        "      \n",
        "        for i, seed in zip(range(self.n_clusters), seeds):\n",
        "            self.centroids[i] = X[seed]\n",
        "\n",
        "        # Start iterations\n",
        "        for i in range(self.max_iter):\n",
        "            self.clusters = {}\n",
        "            for i in range(self.n_clusters):\n",
        "                self.clusters[i] = []\n",
        "\n",
        "            # Assign to cluster by calculated distance to clusters and selecting closest\n",
        "            for sample in X:\n",
        "                cluster = self.predict(sample)\n",
        "                self.clusters[cluster].append(sample)\n",
        "\n",
        "            prev_centroids = dict(self.centroids)\n",
        "\n",
        "            # Update Centroids\n",
        "            for cluster in self.clusters:\n",
        "                self.centroids[cluster] = np.average(\n",
        "                    self.clusters[cluster], axis=0)\n",
        "\n",
        "            # If the clusters change outside the tolerance\n",
        "            # If so, our clusters are suboptimal\n",
        "            is_optimal = True\n",
        "\n",
        "            for centroid in self.centroids:\n",
        "                prev, curr = prev_centroids[centroid], self.centroids[centroid]\n",
        "\n",
        "                if np.sum((curr - prev)/prev * 100.0) > self.tol:\n",
        "                    is_optimal = False\n",
        "\n",
        "            # break loop if optimal\n",
        "            if is_optimal:\n",
        "                break\n",
        "    \n",
        "    # Predict method\n",
        "    def predict(self, data):\n",
        "        dist = [np.linalg.norm(data - self.centroids[c])\n",
        "                for c in self.centroids]\n",
        "        cluster = dist.index(min(dist))\n",
        "        return cluster"
      ],
      "execution_count": 113,
      "outputs": []
    },
    {
      "cell_type": "code",
      "metadata": {
        "id": "cEWzzSb2bnaT",
        "colab_type": "code",
        "colab": {
          "base_uri": "https://localhost:8080/",
          "height": 68
        },
        "outputId": "397b5438-ca2b-43a4-eb13-3034290aa597"
      },
      "source": [
        "# Initializing SKlearn kmeans\n",
        "km = KMeans(3)\n",
        "km.fit(X)"
      ],
      "execution_count": 122,
      "outputs": [
        {
          "output_type": "execute_result",
          "data": {
            "text/plain": [
              "KMeans(algorithm='auto', copy_x=True, init='k-means++', max_iter=300,\n",
              "       n_clusters=3, n_init=10, n_jobs=None, precompute_distances='auto',\n",
              "       random_state=None, tol=0.0001, verbose=0)"
            ]
          },
          "metadata": {
            "tags": []
          },
          "execution_count": 122
        }
      ]
    },
    {
      "cell_type": "code",
      "metadata": {
        "id": "CyWTxSX7o0Di",
        "colab_type": "code",
        "colab": {
          "base_uri": "https://localhost:8080/",
          "height": 295
        },
        "outputId": "512fa65d-7f11-48c4-fdcb-482b915d9816"
      },
      "source": [
        "# Sklearn Kmeans cluster plot\n",
        "plt.figure()\n",
        "\n",
        "plt.scatter(X[:, 0], X[:, 1], c=km.labels_, cmap='rainbow', s=30)\n",
        "plt.scatter(km.cluster_centers_[:, 0],\n",
        "            km.cluster_centers_[:, 1], color='black', s=60, marker='*')\n",
        "plt.title('SkLearn')\n",
        "plt.xlabel('Alcohol')\n",
        "plt.ylabel('Flavanoids')\n",
        "\n",
        "plt.show()"
      ],
      "execution_count": 123,
      "outputs": [
        {
          "output_type": "display_data",
          "data": {
            "image/png": "[encoded data removed]",
            "text/plain": [
              "<Figure size 432x288 with 1 Axes>"
            ]
          },
          "metadata": {
            "tags": [],
            "needs_background": "light"
          }
        }
      ]
    },
    {
      "cell_type": "code",
      "metadata": {
        "id": "XjsFkEqtbwWr",
        "colab_type": "code",
        "colab": {}
      },
      "source": [
        "# Initializing KmeansCluster class\n",
        "kmeans = CustomKMeans(3)\n",
        "kmeans.fit(X)"
      ],
      "execution_count": 119,
      "outputs": []
    },
    {
      "cell_type": "code",
      "metadata": {
        "id": "jTRSCRvVcqQ6",
        "colab_type": "code",
        "colab": {
          "base_uri": "https://localhost:8080/",
          "height": 295
        },
        "outputId": "d94d16f0-4ce4-4493-9e28-3323216c6cfe"
      },
      "source": [
        "# Kmeans cluster class plot\n",
        "colors = ['g', 'r', 'b']*10\n",
        "plt.figure()                   \n",
        "\n",
        "for i, cluster in kmeans.clusters.items():\n",
        "    color = colors[i]\n",
        "    for sample in cluster:\n",
        "        plt.scatter(sample[0], sample[1], color=color, s=30)\n",
        "\n",
        "for centroid in kmeans.centroids.values():\n",
        "    plt.scatter(centroid[0], centroid[1], color='black', s=60, marker='*')\n",
        "\n",
        "plt.title('Kmeans Clustering Algorithm')\n",
        "plt.xlabel('Alcohol')\n",
        "plt.ylabel('Flavanoids')\n",
        "\n",
        "plt.show()"
      ],
      "execution_count": 121,
      "outputs": [
        {
          "output_type": "display_data",
          "data": {
            "image/png": "[encoded data removed]",
            "text/plain": [
              "<Figure size 432x288 with 1 Axes>"
            ]
          },
          "metadata": {
            "tags": [],
            "needs_background": "light"
          }
        }
      ]
    },
    {
      "cell_type": "code",
      "metadata": {
        "id": "IyQb2rTEuo2V",
        "colab_type": "code",
        "colab": {}
      },
      "source": [
        ""
      ],
      "execution_count": 117,
      "outputs": []
    }
  ]
}